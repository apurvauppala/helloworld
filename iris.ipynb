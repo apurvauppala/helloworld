{
  "nbformat": 4,
  "nbformat_minor": 0,
  "metadata": {
    "colab": {
      "name": "iris.ipynb",
      "provenance": [],
      "collapsed_sections": [],
      "authorship_tag": "ABX9TyN4pZFB98gdIjpHkpaUGOBY",
      "include_colab_link": true
    },
    "kernelspec": {
      "name": "python3",
      "display_name": "Python 3"
    }
  },
  "cells": [
    {
      "cell_type": "markdown",
      "metadata": {
        "id": "view-in-github",
        "colab_type": "text"
      },
      "source": [
        "<a href=\"https://colab.research.google.com/github/apurvauppala/helloworld/blob/master/iris.ipynb\" target=\"_parent\"><img src=\"https://colab.research.google.com/assets/colab-badge.svg\" alt=\"Open In Colab\"/></a>"
      ]
    },
    {
      "cell_type": "code",
      "metadata": {
        "id": "ImuYyjZyA4n0",
        "colab_type": "code",
        "colab": {}
      },
      "source": [
        "import seaborn as sns\n",
        "iris = sns.load_dataset('iris')\n",
        "iris.head()"
      ],
      "execution_count": null,
      "outputs": []
    },
    {
      "cell_type": "code",
      "metadata": {
        "id": "RtkoYGNbBIgH",
        "colab_type": "code",
        "colab": {}
      },
      "source": [
        "iris.shape"
      ],
      "execution_count": null,
      "outputs": []
    },
    {
      "cell_type": "code",
      "metadata": {
        "id": "6qLjKVHlBKf1",
        "colab_type": "code",
        "colab": {}
      },
      "source": [
        "sns.pairplot(iris, hue='species', size=1.5);"
      ],
      "execution_count": null,
      "outputs": []
    },
    {
      "cell_type": "code",
      "metadata": {
        "id": "q87XvpGYBO6B",
        "colab_type": "code",
        "colab": {}
      },
      "source": [
        "X_iris = iris.drop('species', axis=1)\n",
        "X_iris.shape"
      ],
      "execution_count": null,
      "outputs": []
    },
    {
      "cell_type": "code",
      "metadata": {
        "id": "6unMSt-dBPuX",
        "colab_type": "code",
        "colab": {}
      },
      "source": [
        "y_iris = iris['species']\n",
        "y_iris.shape"
      ],
      "execution_count": null,
      "outputs": []
    },
    {
      "cell_type": "code",
      "metadata": {
        "id": "2DR3rX3ZBTZY",
        "colab_type": "code",
        "colab": {}
      },
      "source": [
        "from sklearn.model_selection import train_test_split\n",
        "Xtrain, Xtest, ytrain, ytest = train_test_split(X_iris, y_iris, random_state=1)"
      ],
      "execution_count": 22,
      "outputs": []
    },
    {
      "cell_type": "code",
      "metadata": {
        "id": "HIEv_7N1BYvJ",
        "colab_type": "code",
        "colab": {}
      },
      "source": [
        "from sklearn.naive_bayes import GaussianNB # 1. choose model class\n",
        "model = GaussianNB()                       # 2. instantiate model\n",
        "model.fit(Xtrain, ytrain)                  # 3. fit model to data\n",
        "y_model = model.predict(Xtest)             # 4. predict on new data"
      ],
      "execution_count": 26,
      "outputs": []
    },
    {
      "cell_type": "code",
      "metadata": {
        "id": "tkEaaDpzBc4M",
        "colab_type": "code",
        "colab": {}
      },
      "source": [
        "from sklearn.metrics import accuracy_score\n",
        "accuracy_score(ytest, y_model)"
      ],
      "execution_count": null,
      "outputs": []
    },
    {
      "cell_type": "code",
      "metadata": {
        "id": "T0PMy-NABeWO",
        "colab_type": "code",
        "colab": {}
      },
      "source": [
        "from sklearn.metrics import classification_report\n",
        "classification_report(ytest, y_model)"
      ],
      "execution_count": null,
      "outputs": []
    }
  ]
}